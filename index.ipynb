{
 "cells": [
  {
   "cell_type": "markdown",
   "metadata": {},
   "source": [
    "# NYC School Objects"
   ]
  },
  {
   "cell_type": "markdown",
   "metadata": {},
   "source": [
    "### Introduction"
   ]
  },
  {
   "cell_type": "markdown",
   "metadata": {},
   "source": [
    "In this lesson, we'll practice both creating objects and then using objects to more easily navigate and query data from an API.  Time to start."
   ]
  },
  {
   "cell_type": "markdown",
   "metadata": {},
   "source": [
    "### An initial look"
   ]
  },
  {
   "cell_type": "markdown",
   "metadata": {},
   "source": [
    "Let's load up and take a look at the data."
   ]
  },
  {
   "cell_type": "code",
   "execution_count": 1,
   "metadata": {},
   "outputs": [],
   "source": [
    "import pandas as pd\n",
    "url = \"https://raw.githubusercontent.com/jigsawlabs-student/decision-trees-intro/master/3-practical-ds-4/nyc_hs_sat.csv\"\n",
    "df = pd.read_csv(url)\n",
    "schools = df.to_dict('records')"
   ]
  },
  {
   "cell_type": "markdown",
   "metadata": {},
   "source": [
    "Let's take a look at the first school."
   ]
  },
  {
   "cell_type": "code",
   "execution_count": 5,
   "metadata": {},
   "outputs": [
    {
     "data": {
      "text/plain": [
       "{'dbn': '01M292',\n",
       " 'name': 'HENRY STREET SCHOOL FOR INTERNATIONAL STUDIES',\n",
       " 'num_test_takers': 29.0,\n",
       " 'reading_avg': 355.0,\n",
       " 'math_avg': 404.0,\n",
       " 'writing_score': 363.0,\n",
       " 'boro': 'M',\n",
       " 'total_students': 171,\n",
       " 'graduation_rate': 0.66,\n",
       " 'attendance_rate': 0.87,\n",
       " 'college_career_rate': 0.36}"
      ]
     },
     "execution_count": 5,
     "metadata": {},
     "output_type": "execute_result"
    }
   ],
   "source": [
    "schools[0]"
   ]
  },
  {
   "cell_type": "markdown",
   "metadata": {},
   "source": [
    "So in this lesson, we'll first create a school instance with some of these attributes from the api.  And we'll create methods that calculate properties of a single school.  Afterwards, we'll write methods that query our collection of schools."
   ]
  },
  {
   "cell_type": "markdown",
   "metadata": {},
   "source": [
    "First take a look at the test_school.py file, and then move onto the `test_query_schools.py` file."
   ]
  },
  {
   "cell_type": "markdown",
   "metadata": {},
   "source": [
    "### Resources"
   ]
  },
  {
   "cell_type": "markdown",
   "metadata": {},
   "source": [
    "[Initialize with dict](https://codereview.stackexchange.com/questions/171107/python-class-initialize-with-dict)\n",
    "\n",
    "[Check raising exceptions](https://dev.to/wangonya/asserting-exceptions-with-pytest-8hl)"
   ]
  }
 ],
 "metadata": {
  "kernelspec": {
   "display_name": "Python 3",
   "language": "python",
   "name": "python3"
  },
  "language_info": {
   "codemirror_mode": {
    "name": "ipython",
    "version": 3
   },
   "file_extension": ".py",
   "mimetype": "text/x-python",
   "name": "python",
   "nbconvert_exporter": "python",
   "pygments_lexer": "ipython3",
   "version": "3.8.3"
  }
 },
 "nbformat": 4,
 "nbformat_minor": 4
}
